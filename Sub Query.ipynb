{
  "nbformat": 4,
  "nbformat_minor": 0,
  "metadata": {
    "colab": {
      "provenance": [],
      "authorship_tag": "ABX9TyP4fvsHLidyAMNECJSS/Stq",
      "include_colab_link": true
    },
    "kernelspec": {
      "name": "python3",
      "display_name": "Python 3"
    },
    "language_info": {
      "name": "python"
    }
  },
  "cells": [
    {
      "cell_type": "markdown",
      "metadata": {
        "id": "view-in-github",
        "colab_type": "text"
      },
      "source": [
        "<a href=\"https://colab.research.google.com/github/sambhajizambre/SQL/blob/main/Sub%20Query.ipynb\" target=\"_parent\"><img src=\"https://colab.research.google.com/assets/colab-badge.svg\" alt=\"Open In Colab\"/></a>"
      ]
    },
    {
      "cell_type": "code",
      "execution_count": null,
      "metadata": {
        "id": "DCUA_s7-yWO5"
      },
      "outputs": [],
      "source": []
    },
    {
      "cell_type": "markdown",
      "source": [
        "#SQL independant sub query vs correlated sub queries.\n",
        "----Independant vs Correlated sub query---\n",
        "\n",
        "\n",
        "\n",
        "--Independant sub query---\n",
        "--Question :- write sql query to print employee details whos salary is greater than their department avg salary---\n"
      ],
      "metadata": {
        "id": "6Is8DLg6yWt9"
      }
    },
    {
      "cell_type": "code",
      "source": [
        "drop table emp;\n",
        "create table emp(\n",
        "emp_id int,\n",
        "emp_name varchar(20),\n",
        "department_id int,\n",
        "salary int,\n",
        "manager_id int,\n",
        "emp_age int);\n",
        "\n",
        "insert into emp\n",
        "values\n",
        "(1, 'Ankit', 100,10000, 4, 39);\n",
        "insert into emp\n",
        "values (2, 'Mohit', 100, 15000, 5, 48);\n",
        "insert into emp\n",
        "values (3, 'Vikas', 100, 10000,4,37);\n",
        "insert into emp\n",
        "values (4, 'Rohit', 100, 5000, 2, 16);\n",
        "insert into emp\n",
        "values (5, 'Mudit', 200, 12000, 6,55);\n",
        "insert into emp\n",
        "values (6, 'Agam', 200, 12000,2, 14);\n",
        "insert into emp\n",
        "values (7, 'Sanjay', 200, 9000, 2,13);\n",
        "insert into emp\n",
        "values (8, 'Ashish', 200,5000,2,12);\n",
        "insert into emp\n",
        "values (9, 'Mukesh',300,6000,6,51);\n",
        "insert into emp\n",
        "values (10, 'Rakesh',300,7000,6,50);"
      ],
      "metadata": {
        "id": "ef_TCYicyns3"
      },
      "execution_count": null,
      "outputs": []
    },
    {
      "cell_type": "markdown",
      "source": [],
      "metadata": {
        "id": "Z3P3d_2Jyp1r"
      }
    },
    {
      "cell_type": "code",
      "source": [
        "select e.*,avg_dept_salary from emp e\n",
        "inner join\n",
        "(select department_id,round(avg(salary)) as avg_dept_salary from emp group by department_id)\n",
        "as d on e.department_id=d.department_id where e.salary> d.avg_dept_salary;"
      ],
      "metadata": {
        "id": "-EpM4zLoy2rb"
      },
      "execution_count": null,
      "outputs": []
    },
    {
      "cell_type": "code",
      "source": [
        "#Answer:-\n",
        "emp_id  emp_name department_id salary manager_id emp_age\n",
        "2      \tMohit\t   100\t         15000\t 5\t       48\n",
        "5\t      Mudit\t   200\t         12000\t 6\t       55\n",
        "6       Agam\t   200\t         12000\t 2\t       14\n",
        "10\t    Rakesh\t 300           7000\t   6\t       50"
      ],
      "metadata": {
        "id": "d9eU4XjIzAhQ"
      },
      "execution_count": null,
      "outputs": []
    },
    {
      "cell_type": "code",
      "source": [
        "--#Correlated sub query---\n",
        "select * from emp e1\n",
        "where salary >\n",
        "(select avg(e2.salary) as avg_depart_salary from emp e2 where e1.department_id=e2.department_id);"
      ],
      "metadata": {
        "id": "DDK6iQmTzGLj"
      },
      "execution_count": null,
      "outputs": []
    },
    {
      "cell_type": "code",
      "source": [
        "#Answer:-\n",
        "emp_id  emp_name department_id salary manager_id emp_age\n",
        "2      \tMohit\t   100\t         15000\t 5\t       48\n",
        "5\t      Mudit\t   200\t         12000\t 6\t       55\n",
        "6       Agam\t   200\t         12000\t 2\t       14\n",
        "10\t    Rakesh\t 300           7000\t   6\t       50"
      ],
      "metadata": {
        "id": "TsiokwhmzOjT"
      },
      "execution_count": null,
      "outputs": []
    }
  ]
}