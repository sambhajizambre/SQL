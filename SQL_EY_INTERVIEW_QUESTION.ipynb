{
  "nbformat": 4,
  "nbformat_minor": 0,
  "metadata": {
    "colab": {
      "provenance": [],
      "authorship_tag": "ABX9TyP9Qcs8rHEoEPuLm40ut1eF",
      "include_colab_link": true
    },
    "kernelspec": {
      "name": "python3",
      "display_name": "Python 3"
    },
    "language_info": {
      "name": "python"
    }
  },
  "cells": [
    {
      "cell_type": "markdown",
      "metadata": {
        "id": "view-in-github",
        "colab_type": "text"
      },
      "source": [
        "<a href=\"https://colab.research.google.com/github/sambhajizambre/SQL/blob/main/SQL_EY_INTERVIEW_QUESTION.ipynb\" target=\"_parent\"><img src=\"https://colab.research.google.com/assets/colab-badge.svg\" alt=\"Open In Colab\"/></a>"
      ]
    },
    {
      "cell_type": "markdown",
      "source": [
        "#**EY Interview Question:\n",
        ":-You work for an e-commerce company and you need to analyze customer purchasing behavior.\n",
        "You have tasked with creating a table to store customer orders and generating a report that shows the top 5 customers\n",
        "with the highest total order amounts.\n",
        "The report should include the customers name and the corresponding total order amount......\n",
        "\n",
        "# First Create table using SQL SERVER DATABASE :-\n",
        "#syntax\n"
      ],
      "metadata": {
        "id": "qTRk7mGal-CO"
      }
    },
    {
      "cell_type": "code",
      "source": [
        "CREATE TABLE CustomerOrders (\n",
        "  OrderID INT PRIMARY KEY,\n",
        "  CustomerName VARCHAR(100),\n",
        "  OrderAmount DECIMAL(10, 2)\n",
        ");\n",
        "\n",
        "INSERT INTO CustomerOrders (OrderID, CustomerName, OrderAmount)\n",
        "VALUES\n",
        "  (1, 'John Doe', 500.00),\n",
        "  (2, 'Jane Smith', 800.00),\n",
        "  (3, 'Michael Johnson', 1200.00),\n",
        "  (4, 'Emily Davis', 1500.00),\n",
        "  (5, 'David Wilson', 950.00),\n",
        "  (6, 'Sarah Brown', 2000.00),\n",
        "  (7, 'James Miller', 1800.00),\n",
        "  (8, 'Olivia Taylor', 600.00),\n",
        "  (9, 'Ethan Clark', 1400.00),\n",
        "  (10, 'Ava Lee', 1700.00);\n",
        "\n"
      ],
      "metadata": {
        "id": "wsBzOqWymFNz"
      },
      "execution_count": null,
      "outputs": []
    },
    {
      "cell_type": "code",
      "source": [
        "#METHOD 1:-\n",
        "USING SUBQUERY IN SQL SERVER:-.\n",
        "\n",
        "SELECT OrderID,CustomerName,TOTAL_ORDER_AMOUNT\n",
        "FROM (\n",
        "SELECT OrderID,CustomerName, SUM(OrderAmount) AS TOTAL_ORDER_AMOUNT,\n",
        "ROW_NUMBER() OVER(ORDER BY SUM(OrderAmount) DESC) AS ROW_NUMBER\n",
        "FROM CUSTOMERORDERS\n",
        "GROUP BY OrderID,CustomerName\n",
        ") AS TOTAL\n",
        "WHERE ROW_NUMBER <=5;\n",
        "\n"
      ],
      "metadata": {
        "id": "wMk6jSjhmNqD"
      },
      "execution_count": null,
      "outputs": []
    },
    {
      "cell_type": "code",
      "source": [
        "SELECT CustomerName,TOTAL_ORDER_AMOUNT\n",
        "FROM (\n",
        "SELECT CustomerName, SUM(OrderAmount) AS TOTAL_ORDER_AMOUNT,\n",
        "ROW_NUMBER() OVER(ORDER BY SUM(OrderAmount) DESC) AS ROW_NUMBER\n",
        "FROM CUSTOMERORDERS\n",
        "GROUP BY CustomerName\n",
        ") AS TOTAL\n",
        "WHERE ROW_NUMBER <=5;\n",
        "\n"
      ],
      "metadata": {
        "id": "r4HUyY5CmQUa"
      },
      "execution_count": null,
      "outputs": []
    },
    {
      "cell_type": "code",
      "source": [
        "#METHOD 2:-\n",
        "#USING TOP IN SQL SERVER DATABASE: -\n",
        "\n",
        "SELECT TOP 5 CustomerName,SUM(OrderAmount) AS TOTAL_ORDER_AMOUNT\n",
        "FROM CUSTOMERORDERS\n",
        "GROUP BY CustomerName\n",
        "ORDER BY TOTAL_ORDER_AMOUNT DESC;\n"
      ],
      "metadata": {
        "id": "kPW89KMZmQRr"
      },
      "execution_count": null,
      "outputs": []
    },
    {
      "cell_type": "code",
      "source": [
        "\n",
        "#.METHOD 3:-\n",
        "#USING CTE IN SQL SERVER SERVER DATABASE: -\n",
        "with cte as(\n",
        "select TOP 5 CustomerName,sum(OrderAmount) as TOTAL_ORDER_AMOUNT from CustomerOrders\n",
        "group by CustomerName\n",
        "order by TOTAL_ORDER_AMOUNT desc\n",
        ")\n",
        "select row_number() over (order by  TOTAL_ORDER_AMOUNT desc) as ROW_NUM ,CustomerName ,TOTAL_ORDER_AMOUNT from cte\n"
      ],
      "metadata": {
        "id": "LJk-dk_7mQOq"
      },
      "execution_count": null,
      "outputs": []
    },
    {
      "cell_type": "code",
      "source": [
        "#.METHOD 4:-\n",
        "#USING CTE IN SQL SERVER DATABASE: -\n",
        "with CTE\n",
        "as\n",
        "(select customername, SUM(orderamount) AS TOTAL_ORDER_AMOUNT,\n",
        "dense_rank() over(order by SUM(orderamount) desc) as rank\n",
        "from CustomerOrders\n",
        "GROUP BY customername)\n",
        "select customername,TOTAL_ORDER_AMOUNT\n",
        "from CTE\n",
        "where rank <=5;\n"
      ],
      "metadata": {
        "id": "hBqtS9gUmVPb"
      },
      "execution_count": null,
      "outputs": []
    },
    {
      "cell_type": "code",
      "source": [
        "#.METHOD 5:- #USING DENSE_RANK IN SQL SERVER DATABASE : -\n",
        "select TOP 5 customername, sum(orderamount) as TOTAL_ORDER_AMOUNT,\n",
        "dense_rank() over( order by sum(orderamount) desc) as ranks\n",
        "from CustomerOrders\n",
        "GROUP by customername ;\n"
      ],
      "metadata": {
        "id": "-iS9koclmVND"
      },
      "execution_count": null,
      "outputs": []
    },
    {
      "cell_type": "markdown",
      "source": [
        "# USING MY SQL DATABASE :-"
      ],
      "metadata": {
        "id": "y1-hmXuqmgn5"
      }
    },
    {
      "cell_type": "code",
      "source": [
        "#METHOD 1:- USING LIMIT IN MY SQL DATABASE : -\n",
        "SELECT CUSTOMERNAME, SUM(OrderAmount) AS TOTAL_ORDER_AMOUNT\n",
        "FROM CUSTOMERORDERS\n",
        "GROUP BY CUSTOMERNAME\n",
        "ORDER BY TOTAL_ORDER_AMOUNT DESC LIMIT 5;\n"
      ],
      "metadata": {
        "id": "V1zHzYUombSi"
      },
      "execution_count": null,
      "outputs": []
    },
    {
      "cell_type": "code",
      "source": [
        "#METHOD 2:- USING DENSE_RANK IN MY SQL DATABASE : -\n",
        "select customername, sum(orderamount) as TOTAL_ORDER_AMOUNT,\n",
        "dense_rank() over( order by sum(orderamount) desc) as ranks\n",
        "from CustomerOrders\n",
        "GROUP by customername  limit 5;\n"
      ],
      "metadata": {
        "id": "QQ5WxqxpmbKt"
      },
      "execution_count": null,
      "outputs": []
    },
    {
      "cell_type": "code",
      "source": [
        "#METHOD 3:- USING CTE IN MY SQL DATABASE : -\n",
        "with CTE as\n",
        "(select CustomerName, sum(OrderAmount) as TOTAL_ORDER_AMOUNT from CustomerOrders\n",
        "group by CustomerName\n",
        "order by TOTAL_ORDER_AMOUNT desc\n",
        "limit 5)\n",
        "select row_number() over (order by  TOTAL_ORDER_AMOUNT desc) as ROW_NUM ,CustomerName ,TOTAL_ORDER_AMOUNT from CTE\n"
      ],
      "metadata": {
        "id": "MYVqcn8Rmlv6"
      },
      "execution_count": null,
      "outputs": []
    }
  ]
}